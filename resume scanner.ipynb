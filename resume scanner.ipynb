{
 "cells": [
  {
   "cell_type": "code",
   "execution_count": 5,
   "metadata": {},
   "outputs": [
    {
     "name": "stdout",
     "output_type": "stream",
     "text": [
      "Collecting docx2txt\n",
      "  Downloading docx2txt-0.8.tar.gz (2.8 kB)\n",
      "Building wheels for collected packages: docx2txt\n",
      "  Building wheel for docx2txt (setup.py): started\n",
      "  Building wheel for docx2txt (setup.py): finished with status 'done'\n",
      "  Created wheel for docx2txt: filename=docx2txt-0.8-py3-none-any.whl size=3969 sha256=5991653a55f0c0abd3c3fe86239a8851d36709c37275448dd7799812e70452d0\n",
      "  Stored in directory: c:\\users\\akash\\appdata\\local\\pip\\cache\\wheels\\b7\\20\\b2\\473e3aea9a0c0d3e7b2f7bd81d06d0794fec12752733d1f3a8\n",
      "Successfully built docx2txt\n",
      "Installing collected packages: docx2txt\n",
      "Successfully installed docx2txt-0.8\n",
      "Note: you may need to restart the kernel to use updated packages.\n"
     ]
    }
   ],
   "source": [
    "pip install docx2txt"
   ]
  },
  {
   "cell_type": "code",
   "execution_count": 9,
   "metadata": {},
   "outputs": [],
   "source": [
    "import docx2txt as dt"
   ]
  },
  {
   "cell_type": "code",
   "execution_count": 8,
   "metadata": {},
   "outputs": [],
   "source": [
    "#from google.colab import files\n",
    "#uploaded=files.upload()"
   ]
  },
  {
   "cell_type": "code",
   "execution_count": 10,
   "metadata": {},
   "outputs": [],
   "source": [
    "rs=dt.process(\"cv.docx\")"
   ]
  },
  {
   "cell_type": "code",
   "execution_count": 11,
   "metadata": {},
   "outputs": [
    {
     "name": "stdout",
     "output_type": "stream",
     "text": [
      "Akash Singh                                                     \n",
      "\n",
      "Dantan,Paschim Midnapore\n",
      "\n",
      "Ph no:9775052812\n",
      "\n",
      "Email id : akash.sngg99@gmail.com\n",
      "\n",
      "Registration id: 510517012\n",
      "\n",
      "\n",
      "\n",
      "\n",
      "\n",
      "Academics details\n",
      "\n",
      "Program\n",
      "\n",
      "\n",
      "\n",
      "Institution\n",
      "\n",
      "CGPA / %\n",
      "\n",
      "Completion\n",
      "\n",
      "B.tech(Computer Science and Technology)\n",
      "\n",
      "Indian Institute of Engineering Science and \n",
      "\n",
      "Technology,Shibpur\n",
      "\n",
      " 6.0\n",
      "\n",
      "021\n",
      "\n",
      "12th(WBCHSE)\n",
      "\n",
      "Dantan H. S. Multipurpose School\n",
      "\n",
      "    74%\n",
      "\n",
      "2017\n",
      "\n",
      "10th (WBBSE)\n",
      "\n",
      "Dantan High School\n",
      "\n",
      "     84.57%\n",
      "\n",
      "2015\n",
      "\n",
      "\n",
      "\n",
      "Mini Project\n",
      "\n",
      " \n",
      "\n",
      "Studies on Influential Node of Complex Networks.\n",
      "\n",
      " The project was completed under Dr. Susanta Chakrabarti (Academic Dean & prof. of Computer Science And Technology,Shibpur).\n",
      "\n",
      "\n",
      "\n",
      "Skills.\n",
      "\n",
      "\n",
      "\n",
      "Programming Languages: C , C++ , JAVA , PYTHON,SQL\n",
      "\n",
      "\n",
      "\n",
      "Software : MS. Office,  Photoshop\n",
      "\n",
      "\n",
      "\n",
      "Languages\n",
      "\n",
      "English: fluent (reading, writing, speaking)\n",
      "\n",
      "\n",
      "\n",
      "Hindi: intermediate (speaking); basic (reading, writing)\n",
      "\n",
      "\n",
      "\n",
      "   Bengali: native language\n",
      "\n",
      "\n",
      "\n",
      "Achievements\n",
      "\n",
      "  Active participants of school and college events.\n",
      "\n",
      "  Complete 1st round of NTSE,2015.\n",
      "\n",
      "Participated in various Badminton Tournaments\n",
      "\n",
      "\n",
      "\n",
      "\n",
      "\n",
      "Extra-Curricular Activities\n",
      "\n",
      "Member of Code IIEST- The Coding Society of IIEST Shibpur\n"
     ]
    }
   ],
   "source": [
    "print(rs)"
   ]
  },
  {
   "cell_type": "code",
   "execution_count": 12,
   "metadata": {},
   "outputs": [],
   "source": [
    "#store the job description into a var\n",
    "jb=dt.process(\"soft_engi.docx\")"
   ]
  },
  {
   "cell_type": "code",
   "execution_count": 13,
   "metadata": {},
   "outputs": [],
   "source": [
    "textw=[rs,jb]"
   ]
  },
  {
   "cell_type": "code",
   "execution_count": 15,
   "metadata": {},
   "outputs": [],
   "source": [
    "from sklearn.feature_extraction.text import CountVectorizer\n",
    "cv=CountVectorizer()\n",
    "mat=cv.fit_transform(textw)"
   ]
  },
  {
   "cell_type": "code",
   "execution_count": 16,
   "metadata": {},
   "outputs": [
    {
     "name": "stdout",
     "output_type": "stream",
     "text": [
      "[[1.         0.34603952]\n",
      " [0.34603952 1.        ]]\n"
     ]
    }
   ],
   "source": [
    "from sklearn.metrics.pairwise import cosine_similarity\n",
    "print(cosine_similarity(mat))"
   ]
  },
  {
   "cell_type": "code",
   "execution_count": null,
   "metadata": {},
   "outputs": [],
   "source": []
  }
 ],
 "metadata": {
  "kernelspec": {
   "display_name": "Python 3",
   "language": "python",
   "name": "python3"
  },
  "language_info": {
   "codemirror_mode": {
    "name": "ipython",
    "version": 3
   },
   "file_extension": ".py",
   "mimetype": "text/x-python",
   "name": "python",
   "nbconvert_exporter": "python",
   "pygments_lexer": "ipython3",
   "version": "3.7.6"
  }
 },
 "nbformat": 4,
 "nbformat_minor": 4
}
